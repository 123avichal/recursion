{
 "cells": [
  {
   "cell_type": "code",
   "execution_count": null,
   "id": "a0072c2d-42c6-4730-abbc-81ca9a1dbc19",
   "metadata": {},
   "outputs": [],
   "source": [
    "Q.4 Find the sum of the values of the array [92, 23, 15, -20, 10]."
   ]
  },
  {
   "cell_type": "code",
   "execution_count": 19,
   "id": "720db4ff-e153-4467-97b6-cf967bb36dbf",
   "metadata": {},
   "outputs": [
    {
     "name": "stdout",
     "output_type": "stream",
     "text": [
      "92\n"
     ]
    }
   ],
   "source": [
    "# method defination\n",
    "def sum_array(array):\n",
    "    sum_value=0\n",
    "    empty_element=[]\n",
    "    for element in range(len(array)):\n",
    "        if array[element]==[0]:\n",
    "            return empty_element.append(element)\n",
    "        else:\n",
    "            sum_value+=array[element]\n",
    "            return sum_value\n",
    "\n",
    "\n",
    "\n",
    "\n",
    "# driver code \n",
    "array= [92, 23, 15, -20, 10]\n",
    "result=sum_array(array)\n",
    "print(result)\n"
   ]
  },
  {
   "cell_type": "code",
   "execution_count": null,
   "id": "3f8c80c2-2387-4376-88f0-456285d03c1c",
   "metadata": {},
   "outputs": [],
   "source": [
    "Q. 3 Print the max value of the array [ 13, 1, -3, 22, 5]."
   ]
  },
  {
   "cell_type": "code",
   "execution_count": 29,
   "id": "9c5d282f-c7c7-4b89-a935-3b2b654dddf9",
   "metadata": {},
   "outputs": [
    {
     "name": "stdout",
     "output_type": "stream",
     "text": [
      "22\n"
     ]
    }
   ],
   "source": [
    "# method defination\n",
    "def max_array(arr,n):\n",
    "    # base case condition\n",
    "    if n==1:\n",
    "        return arr[0]\n",
    "    # recursive function call\n",
    "    else:\n",
    "        return max(arr[n-1],max_array(arr,n-1))\n",
    "        \n",
    "\n",
    "\n",
    "\n",
    "#driver code\n",
    "arr=[ 13, 1, -3, 22, 5]\n",
    "n = len(arr)\n",
    "result=max_array(arr,n)\n",
    "print(result)\n",
    "#  return max(A[n - 1], findMaxRec(A, n - 1)) "
   ]
  },
  {
   "cell_type": "code",
   "execution_count": null,
   "id": "68de9d09-96a1-48ef-89f1-915361c636cd",
   "metadata": {},
   "outputs": [],
   "source": [
    "Q.5 Given a number n. Print if it is an armstrong number or not.An armstrong number is a number if the sum\n",
    "of every digit in that number raised to the power of total digits in that number is equal to the number.\n",
    "Example : 153 = 1^3 + 5^3 + 3^3 = 1 + 125 + 27 = 153 hence 153 is an armstrong number. (Easy)\n",
    "Input1 : 153\n",
    "Output1 : Yes\n",
    "Input 2 : 134\n",
    "Output2 : No"
   ]
  },
  {
   "cell_type": "code",
   "execution_count": 10,
   "id": "d8bd6b10-b648-41bc-8175-ea800144af5c",
   "metadata": {},
   "outputs": [
    {
     "name": "stdin",
     "output_type": "stream",
     "text": [
      "enter the number 134\n"
     ]
    },
    {
     "name": "stdout",
     "output_type": "stream",
     "text": [
      "134 no\n"
     ]
    }
   ],
   "source": [
    "\n",
    "    num= int(input('enter the number'))\n",
    "    order = len(str(n))\n",
    "    sum =check_armstrong(num, order)\n",
    "    \n",
    "    if num==sum:\n",
    "         print(num, \"yes\")\n",
    "    else:\n",
    "          print(num, \"no\")"
   ]
  },
  {
   "cell_type": "code",
   "execution_count": null,
   "id": "f90267cd-ef2e-4741-a689-aade02e0b14c",
   "metadata": {},
   "outputs": [],
   "source": []
  }
 ],
 "metadata": {
  "kernelspec": {
   "display_name": "Python 3 (ipykernel)",
   "language": "python",
   "name": "python3"
  },
  "language_info": {
   "codemirror_mode": {
    "name": "ipython",
    "version": 3
   },
   "file_extension": ".py",
   "mimetype": "text/x-python",
   "name": "python",
   "nbconvert_exporter": "python",
   "pygments_lexer": "ipython3",
   "version": "3.10.8"
  }
 },
 "nbformat": 4,
 "nbformat_minor": 5
}
